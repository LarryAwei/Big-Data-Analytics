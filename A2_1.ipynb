{
 "cells": [
  {
   "cell_type": "code",
   "execution_count": 2,
   "metadata": {},
   "outputs": [],
   "source": []
  },
  {
   "cell_type": "code",
   "execution_count": null,
   "metadata": {},
   "outputs": [],
   "source": []
  },
  {
   "cell_type": "code",
   "execution_count": null,
   "metadata": {
    "scrolled": true
   },
   "outputs": [],
   "source": [
    "\n"
   ]
  },
  {
   "cell_type": "code",
   "execution_count": null,
   "metadata": {},
   "outputs": [],
   "source": [
    "\n"
   ]
  },
  {
   "cell_type": "code",
   "execution_count": 105,
   "metadata": {
    "scrolled": true
   },
   "outputs": [
    {
     "name": "stdout",
     "output_type": "stream",
     "text": [
      "  (0, 768)\t0.01912054654615678\n",
      "  (0, 767)\t0.013324774174863243\n",
      "  (0, 766)\t0.009132812642453412\n",
      "  (0, 765)\t0.006218060070991912\n",
      "  (0, 764)\t0.017839081292665943\n",
      "  (0, 763)\t0.00965108806008444\n",
      "  (0, 762)\t0.01201613589744083\n",
      "  (0, 761)\t0.02278540420038108\n",
      "  (0, 760)\t0.010166770176113735\n",
      "  (0, 759)\t0.012785023362658193\n",
      "  (0, 758)\t0.015207576512813592\n",
      "  (0, 757)\t0.02219343982380233\n",
      "  (0, 756)\t0.019182873760305447\n",
      "  (0, 755)\t0.01841101104476948\n",
      "  (0, 754)\t0.024632515633678756\n",
      "  (0, 753)\t0.02594443606173987\n",
      "  (0, 752)\t0.04045960303946665\n",
      "  (0, 751)\t0.02898961466377626\n",
      "  (0, 750)\t0.028179860719012705\n",
      "  (0, 749)\t0.011663097606510622\n",
      "  (0, 748)\t0.005678967205966556\n",
      "  (0, 747)\t0.007351672584742598\n",
      "  (0, 746)\t0.013324774174863243\n",
      "  (0, 745)\t0.012865934651160938\n",
      "  (0, 744)\t0.008330690519616907\n",
      "  :\t:\n",
      "  (11268, 143)\t0.019228686727907732\n",
      "  (11268, 130)\t0.06788000812010053\n",
      "  (11268, 121)\t0.12323803815904782\n",
      "  (11268, 103)\t0.02448679912665463\n",
      "  (11268, 98)\t0.024757721485373915\n",
      "  (11268, 83)\t0.03635675962939225\n",
      "  (11268, 82)\t0.08426429739350094\n",
      "  (11268, 75)\t0.08408905209789114\n",
      "  (11268, 72)\t0.028526173070438837\n",
      "  (11268, 71)\t0.022106600765435927\n",
      "  (11268, 66)\t0.06131302549995806\n",
      "  (11268, 59)\t0.01573376122507224\n",
      "  (11268, 51)\t0.058495046640019636\n",
      "  (11268, 50)\t0.020420687023408844\n",
      "  (11268, 48)\t0.030922170973690096\n",
      "  (11268, 47)\t0.03734322627181969\n",
      "  (11268, 43)\t0.026494472830751275\n",
      "  (11268, 41)\t0.016372247452001096\n",
      "  (11268, 32)\t0.18186918745591113\n",
      "  (11268, 29)\t0.07250055413205868\n",
      "  (11268, 28)\t0.18465954345359792\n",
      "  (11268, 26)\t0.04050953698736709\n",
      "  (11268, 24)\t0.0292639257478656\n",
      "  (11268, 22)\t0.05882725831228133\n",
      "  (11268, 11)\t0.05889103067087314\n",
      "[ 1  1  1 ... 20 20 20]\n"
     ]
    }
   ],
   "source": [
    "from sklearn.feature_extraction.text import CountVectorizer\n",
    "import scipy.sparse as sp\n",
    "\n",
    "\n",
    "#Extract values from training labels\n",
    "\n",
    "train_label = np.loadtxt('./matlab/train.label', dtype=int)\n",
    "#Get total number of documents\n",
    "total = len(train_label)\n",
    "count_vect = CountVectorizer()\n",
    "df = pd.read_csv('./matlab/train.data', delimiter=' ', names=['docIdx', 'wordIdx', 'count'])\n",
    "\n",
    "\n",
    "\n",
    "matrix = sp.csc_matrix((df.values[:,2], (df.values[:,0]-1, df.values[:,1]-1)), shape=(total, 61188))\n",
    "\n",
    "from sklearn.feature_extraction.text import TfidfTransformer\n",
    "tfidf_transformer = TfidfTransformer()\n",
    "X_train_tfidf = tfidf_transformer.fit_transform(matrix)\n",
    "print(X_train_tfidf)\n",
    "print(train_label)\n",
    "\n",
    "\n",
    "#test\n"
   ]
  },
  {
   "cell_type": "code",
   "execution_count": 106,
   "metadata": {},
   "outputs": [
    {
     "name": "stdout",
     "output_type": "stream",
     "text": [
      "0.798695781068656\n",
      "0.8115922718187875\n"
     ]
    }
   ],
   "source": [
    "\n",
    "#Extract values from test labels\n",
    "\n",
    "test_label = np.loadtxt('./matlab/test.label', dtype=int)\n",
    "\n",
    "#Get total number of documents\n",
    "total = len(test_label)\n",
    "count_vect = CountVectorizer()\n",
    "df = pd.read_csv('./matlab/test.data', delimiter=' ', names=['docIdx', 'wordIdx', 'count'])\n",
    "\n",
    "\n",
    "\n",
    "matrix2 = sp.csc_matrix((df.values[:,2], (df.values[:,0]-1, df.values[:,1]-1)), shape=(total, max(df['wordIdx'])))\n",
    "\n",
    "from sklearn.naive_bayes import MultinomialNB\n",
    "from sklearn.metrics import accuracy_score,f1_score\n",
    "vectors_test=tfidf_transformer.transform(matrix2)\n",
    "clf=MultinomialNB(alpha=0.1)\n",
    "clf.fit(X_train_tfidf,train_label)\n",
    "\n",
    "pred=clf.predict(vectors_test)\n",
    "\n",
    "print(f1_score(test_label,pred,average='macro'))\n",
    "print(accuracy_score(test_label,pred))"
   ]
  }
 ],
 "metadata": {
  "kernelspec": {
   "display_name": "Python 3",
   "language": "python",
   "name": "python3"
  },
  "language_info": {
   "codemirror_mode": {
    "name": "ipython",
    "version": 3
   },
   "file_extension": ".py",
   "mimetype": "text/x-python",
   "name": "python",
   "nbconvert_exporter": "python",
   "pygments_lexer": "ipython3",
   "version": "3.7.0"
  }
 },
 "nbformat": 4,
 "nbformat_minor": 2
}
